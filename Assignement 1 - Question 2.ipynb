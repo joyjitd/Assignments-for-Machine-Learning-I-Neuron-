{
 "cells": [
  {
   "cell_type": "code",
   "execution_count": 1,
   "id": "50d38792",
   "metadata": {},
   "outputs": [
    {
     "name": "stdout",
     "output_type": "stream",
     "text": [
      "Enter the first nameJoyjit\n"
     ]
    }
   ],
   "source": [
    "a = input('Enter the first name')"
   ]
  },
  {
   "cell_type": "markdown",
   "id": "ba18b454",
   "metadata": {},
   "source": [
    "# Input from the user to enter the first name"
   ]
  },
  {
   "cell_type": "code",
   "execution_count": 2,
   "id": "ed1e104a",
   "metadata": {},
   "outputs": [
    {
     "name": "stdout",
     "output_type": "stream",
     "text": [
      "Enter the last nameDhar\n"
     ]
    }
   ],
   "source": [
    "b= input ('Enter the last name')"
   ]
  },
  {
   "cell_type": "markdown",
   "id": "24a1f6bc",
   "metadata": {},
   "source": [
    "# Input from the user to enter the last name"
   ]
  },
  {
   "cell_type": "code",
   "execution_count": 4,
   "id": "b78a82fe",
   "metadata": {},
   "outputs": [],
   "source": [
    "L1 =a[::-1]"
   ]
  },
  {
   "cell_type": "code",
   "execution_count": 5,
   "id": "d4b58463",
   "metadata": {},
   "outputs": [],
   "source": [
    "L2=b[::-1]"
   ]
  },
  {
   "cell_type": "code",
   "execution_count": 6,
   "id": "8a1ecec4",
   "metadata": {},
   "outputs": [
    {
     "name": "stdout",
     "output_type": "stream",
     "text": [
      "tijyoJ rahD\n"
     ]
    }
   ],
   "source": [
    "print (L1 + ' '+L2) # Print the first and last name with a space "
   ]
  },
  {
   "cell_type": "code",
   "execution_count": null,
   "id": "b83751f9",
   "metadata": {},
   "outputs": [],
   "source": []
  }
 ],
 "metadata": {
  "kernelspec": {
   "display_name": "Python 3 (ipykernel)",
   "language": "python",
   "name": "python3"
  },
  "language_info": {
   "codemirror_mode": {
    "name": "ipython",
    "version": 3
   },
   "file_extension": ".py",
   "mimetype": "text/x-python",
   "name": "python",
   "nbconvert_exporter": "python",
   "pygments_lexer": "ipython3",
   "version": "3.9.7"
  }
 },
 "nbformat": 4,
 "nbformat_minor": 5
}
