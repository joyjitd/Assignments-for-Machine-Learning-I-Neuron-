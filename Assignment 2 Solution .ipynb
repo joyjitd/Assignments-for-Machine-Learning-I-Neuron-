{
 "cells": [
  {
   "cell_type": "markdown",
   "id": "a6be80a9",
   "metadata": {},
   "source": [
    "# Question 1: Write a function to compute 5/0 and use try/except to catch the exceptions."
   ]
  },
  {
   "cell_type": "code",
   "execution_count": 2,
   "id": "3b6557c7",
   "metadata": {},
   "outputs": [
    {
     "name": "stdout",
     "output_type": "stream",
     "text": [
      " Error occured as numberable cannot be divided by zero\n"
     ]
    }
   ],
   "source": [
    "def divide():\n",
    "    return 5/0 # If the number function is passed then the output of dividing numberator with zero will occur without error\n",
    "          #Anything divided by zero is undefined.  \n",
    "try:\n",
    "    divide()\n",
    "except Exception as E:\n",
    "    print(\" Error occured as numberable cannot be divided by zero\")\n",
    "except ZeroDivisionError as Z:\n",
    "    print(\"Catch the Exception\")"
   ]
  },
  {
   "cell_type": "code",
   "execution_count": 7,
   "id": "9a4acada",
   "metadata": {},
   "outputs": [
    {
     "name": "stdout",
     "output_type": "stream",
     "text": [
      "Output:\n",
      "Americans play Baseball \n",
      "Americans play Cricket \n",
      "Americans watch Baseball \n",
      "Americans watch Cricket \n",
      "Indians play Baseball \n",
      "Indians play Cricket \n",
      "Indians watch Baseball \n",
      "Indians watch Cricket \n"
     ]
    }
   ],
   "source": [
    "# Question 2\n",
    "\n",
    "subjects=[\"Americans \",\"Indians \"]\n",
    "verbs=[\"play \",\"watch \"]\n",
    "objects=[\"Baseball \",\"Cricket \"]\n",
    "print(\"Output:\")\n",
    "# The loop will be iterated so that each element of each variables occurs onces. All sorts of combination is possible. \n",
    "for s in subjects: \n",
    "    for v in verbs:\n",
    "        for o in objects:\n",
    "            sentence = s + v + o\n",
    "            print(sentence)\n",
    "\n",
    "\n",
    "\n"
   ]
  },
  {
   "cell_type": "code",
   "execution_count": null,
   "id": "f67f86a3",
   "metadata": {},
   "outputs": [],
   "source": []
  }
 ],
 "metadata": {
  "kernelspec": {
   "display_name": "Python 3 (ipykernel)",
   "language": "python",
   "name": "python3"
  },
  "language_info": {
   "codemirror_mode": {
    "name": "ipython",
    "version": 3
   },
   "file_extension": ".py",
   "mimetype": "text/x-python",
   "name": "python",
   "nbconvert_exporter": "python",
   "pygments_lexer": "ipython3",
   "version": "3.9.7"
  }
 },
 "nbformat": 4,
 "nbformat_minor": 5
}
