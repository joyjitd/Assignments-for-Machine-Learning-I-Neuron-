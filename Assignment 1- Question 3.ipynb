{
 "cells": [
  {
   "cell_type": "markdown",
   "id": "6fe40373",
   "metadata": {},
   "source": [
    "# Question 3: Write a Python program to find the volume of a sphere with diameter 12 cm."
   ]
  },
  {
   "cell_type": "code",
   "execution_count": 16,
   "id": "5dc06014",
   "metadata": {},
   "outputs": [
    {
     "name": "stdout",
     "output_type": "stream",
     "text": [
      "The radius is 6.0 cm\n",
      "The volume of the sphere is:  904.3199999999999 cm cube\n"
     ]
    }
   ],
   "source": [
    "pi = 3.14 # Defining the value of pie. \n",
    "diameter = 12.0 # Value of Diameter is given as 12. \n",
    "r= diameter/2\n",
    "V= 4.0/3.0*pi* r**3 # Applying the formula giving in the question \n",
    "print ('The radius is', r , 'cm')\n",
    "print('The volume of the sphere is: ',V, 'cm cube')\n"
   ]
  },
  {
   "cell_type": "code",
   "execution_count": null,
   "id": "3346161d",
   "metadata": {},
   "outputs": [],
   "source": []
  }
 ],
 "metadata": {
  "kernelspec": {
   "display_name": "Python 3 (ipykernel)",
   "language": "python",
   "name": "python3"
  },
  "language_info": {
   "codemirror_mode": {
    "name": "ipython",
    "version": 3
   },
   "file_extension": ".py",
   "mimetype": "text/x-python",
   "name": "python",
   "nbconvert_exporter": "python",
   "pygments_lexer": "ipython3",
   "version": "3.9.7"
  }
 },
 "nbformat": 4,
 "nbformat_minor": 5
}
