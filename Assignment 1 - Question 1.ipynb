{
 "cells": [
  {
   "cell_type": "markdown",
   "id": "04ec40ef",
   "metadata": {},
   "source": [
    "# Question 1: Write a program which will find all such numbers which are divisible by 7 but are not a multiple of 5, between 2000 and 320 (both included) the numbers obtained should be printed in a coma separated seque"
   ]
  },
  {
   "cell_type": "code",
   "execution_count": 18,
   "id": "98d961f5",
   "metadata": {},
   "outputs": [
    {
     "name": "stdout",
     "output_type": "stream",
     "text": [
      "322 ,329 ,336 ,343 ,357 ,364 ,371 ,378 ,392 ,399 ,406 ,413 ,427 ,434 ,441 ,448 ,462 ,469 ,476 ,483 ,497 ,504 ,511 ,518 ,532 ,539 ,546 ,553 ,567 ,574 ,581 ,588 ,602 ,609 ,616 ,623 ,637 ,644 ,651 ,658 ,672 ,679 ,686 ,693 ,707 ,714 ,721 ,728 ,742 ,749 ,756 ,763 ,777 ,784 ,791 ,798 ,812 ,819 ,826 ,833 ,847 ,854 ,861 ,868 ,882 ,889 ,896 ,903 ,917 ,924 ,931 ,938 ,952 ,959 ,966 ,973 ,987 ,994 ,1001 ,1008 ,1022 ,1029 ,1036 ,1043 ,1057 ,1064 ,1071 ,1078 ,1092 ,1099 ,1106 ,1113 ,1127 ,1134 ,1141 ,1148 ,1162 ,1169 ,1176 ,1183 ,1197 ,1204 ,1211 ,1218 ,1232 ,1239 ,1246 ,1253 ,1267 ,1274 ,1281 ,1288 ,1302 ,1309 ,1316 ,1323 ,1337 ,1344 ,1351 ,1358 ,1372 ,1379 ,1386 ,1393 ,1407 ,1414 ,1421 ,1428 ,1442 ,1449 ,1456 ,1463 ,1477 ,1484 ,1491 ,1498 ,1512 ,1519 ,1526 ,1533 ,1547 ,1554 ,1561 ,1568 ,1582 ,1589 ,1596 ,1603 ,1617 ,1624 ,1631 ,1638 ,1652 ,1659 ,1666 ,1673 ,1687 ,1694 ,1701 ,1708 ,1722 ,1729 ,1736 ,1743 ,1757 ,1764 ,1771 ,1778 ,1792 ,1799 ,1806 ,1813 ,1827 ,1834 ,1841 ,1848 ,1862 ,1869 ,1876 ,1883 ,1897 ,1904 ,1911 ,1918 ,1932 ,1939 ,1946 ,1953 ,1967 ,1974 ,1981 ,1988 ,"
     ]
    }
   ],
   "source": [
    "for i in range(320,2001): # i consist of the integers between 320 to 2001 # 2001 because upper cases is excluded. \n",
    "\n",
    "    if i%7==0 and i%5!=0: # when the number is divisible by 7 that means its remainder woould be zero i%7==0 and i%5!=0. When both condition is satisifeied that only it would print the number. \n",
    "\n",
    "        print(i,\",\",end=\"\") # Printing the number which full fills the condition. "
   ]
  },
  {
   "cell_type": "code",
   "execution_count": null,
   "id": "a91e60d7",
   "metadata": {},
   "outputs": [],
   "source": []
  },
  {
   "cell_type": "code",
   "execution_count": null,
   "id": "21646923",
   "metadata": {},
   "outputs": [],
   "source": []
  }
 ],
 "metadata": {
  "kernelspec": {
   "display_name": "Python 3 (ipykernel)",
   "language": "python",
   "name": "python3"
  },
  "language_info": {
   "codemirror_mode": {
    "name": "ipython",
    "version": 3
   },
   "file_extension": ".py",
   "mimetype": "text/x-python",
   "name": "python",
   "nbconvert_exporter": "python",
   "pygments_lexer": "ipython3",
   "version": "3.9.7"
  }
 },
 "nbformat": 4,
 "nbformat_minor": 5
}
